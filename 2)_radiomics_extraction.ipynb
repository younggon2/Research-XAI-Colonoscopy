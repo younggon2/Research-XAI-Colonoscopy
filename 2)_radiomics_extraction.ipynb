{
 "cells": [
  {
   "cell_type": "code",
   "execution_count": null,
   "id": "f4e50d3d-c97b-413d-b166-3a3097a97ef3",
   "metadata": {
    "tags": []
   },
   "outputs": [],
   "source": [
    "import os\n",
    "from glob import glob\n",
    "import random\n",
    "import copy\n",
    "import math\n",
    "import numpy as np\n",
    "import pandas as pd\n",
    "import matplotlib.pyplot as plt\n",
    "from scipy import ndimage\n",
    "import cv2\n",
    "from PIL import Image\n",
    "from tqdm.notebook import tqdm\n",
    "import radiomics\n",
    "from radiomics import featureextractor\n",
    "import SimpleITK as sitk\n",
    "import six"
   ]
  },
  {
   "cell_type": "code",
   "execution_count": null,
   "id": "adb60179-053a-441e-b437-e85b4b7ccbcd",
   "metadata": {
    "tags": []
   },
   "outputs": [],
   "source": [
    "IMG_SIZE = (150, 150) # width, height\n",
    "MASK_THRESH = 100\n",
    "\n",
    "def add_padding(img):\n",
    "    height, width, _ = img.shape\n",
    "    img_width, img_height = IMG_SIZE\n",
    "    fill_value = (0, 0, 0)\n",
    "    if width / height == img_width / img_height:\n",
    "        img = cv2.resize(img, (IMG_SIZE))\n",
    "    elif width / height < img_width / img_height:\n",
    "        tmp_width = math.ceil(width / (height / img_height))\n",
    "        img = cv2.resize(img, (tmp_width, img_height))\n",
    "        to_add = img_width - tmp_width\n",
    "        left = to_add // 2\n",
    "        right = to_add - left\n",
    "        img = cv2.copyMakeBorder(img, 0, 0, left, right, cv2.BORDER_CONSTANT, value=fill_value)\n",
    "    else:\n",
    "        tmp_height = math.ceil(height / (width / img_width))\n",
    "        img = cv2.resize(img, (img_width, tmp_height))\n",
    "        to_add = img_height - tmp_height\n",
    "        top = to_add // 2\n",
    "        bottom = to_add - top\n",
    "        img = cv2.copyMakeBorder(img, top, bottom, 0, 0, cv2.BORDER_CONSTANT, value=fill_value)\n",
    "    return img"
   ]
  },
  {
   "cell_type": "code",
   "execution_count": null,
   "id": "95e49600-b5d5-4ae3-aa50-826666570ba0",
   "metadata": {
    "tags": []
   },
   "outputs": [],
   "source": [
    "remove_col_names = [\n",
    "    'diagnostics_Versions_PyRadiomics',\n",
    "    'diagnostics_Versions_Numpy',\n",
    "    'diagnostics_Versions_SimpleITK',\n",
    "    'diagnostics_Versions_PyWavelet',\n",
    "    'diagnostics_Versions_Python',\n",
    "    'diagnostics_Configuration_Settings',\n",
    "    'diagnostics_Configuration_EnabledImageTypes',\n",
    "    'diagnostics_Image-original_Hash',\n",
    "    'diagnostics_Image-original_Dimensionality',\n",
    "    'diagnostics_Image-original_Spacing',\n",
    "    'diagnostics_Image-original_Size',\n",
    "    'diagnostics_Image-original_Mean',\n",
    "    'diagnostics_Image-original_Minimum',\n",
    "    'diagnostics_Image-original_Maximum',\n",
    "    'diagnostics_Mask-original_Hash',\n",
    "    'diagnostics_Mask-original_Spacing',\n",
    "    'diagnostics_Mask-original_Size',\n",
    "    'diagnostics_Mask-original_BoundingBox',\n",
    "    'diagnostics_Mask-original_VoxelNum',\n",
    "    'diagnostics_Mask-original_VolumeNum',\n",
    "    'diagnostics_Mask-original_CenterOfMassIndex',\n",
    "    'diagnostics_Mask-original_CenterOfMass',\n",
    "]"
   ]
  },
  {
   "cell_type": "code",
   "execution_count": null,
   "id": "44f7496a-18db-45ea-805a-41bf4c9d16d4",
   "metadata": {
    "tags": []
   },
   "outputs": [],
   "source": [
    "data_path = 'data_path.csv'\n",
    "\n",
    "df = pd.read_csv(f'/workspace/data4/changwoo/Colonoscopy/XAI_test/XAI_test.csv')\n",
    "img_list = df['img_path'].tolist()"
   ]
  },
  {
   "cell_type": "code",
   "execution_count": null,
   "id": "d4ac9575-6588-4902-b0b8-f1634410abef",
   "metadata": {
    "tags": []
   },
   "outputs": [],
   "source": [
    "extractor = featureextractor.RadiomicsFeatureExtractor()\n",
    "radiomics_df = pd.DataFrame()\n",
    "\n",
    "for idx in tqdm(range(len(img_list))):\n",
    "    img_path = img_list[idx]\n",
    "    img_name = img_path.split('/')[-1].split('.')[0]\n",
    "    img = cv2.imread(img_path)\n",
    "    img_h, img_w, _ = img.shape\n",
    "    xmin, xmax, ymin, ymax = df.loc[df['img_path']==img_path, ['xmin', 'xmax', 'ymin', 'ymax']].values[0]\n",
    "    img = img[ymin:ymax, xmin:xmax, :]\n",
    "    img = add_padding(img)\n",
    "    img = cv2.cvtColor(img, cv2.COLOR_BGR2GRAY)\n",
    "    img = sitk.GetImageFromArray(img)\n",
    "    \n",
    "    mask_path = f'cam_mask_{idx}_png'\n",
    "    mask = cv2.imread(mask_path, cv2.IMREAD_GRAYSCALE)\n",
    "    mask[np.where(mask <= MASK_THRESH)] = 0\n",
    "    mask[np.where(mask > MASK_THRESH)] = 1\n",
    "    mask = sitk.GetImageFromArray(mask)\n",
    "    \n",
    "    try:\n",
    "        result = extractor.execute(img, mask)\n",
    "    except:\n",
    "        continue\n",
    "\n",
    "    result_df = pd.DataFrame.from_dict(result, orient='index').T\n",
    "    result_df['img_name'] = img_path.split('/')[-1]\n",
    "\n",
    "    if radiomics_df.shape[0] == 0:\n",
    "        radiomics_df = result_df\n",
    "    else:\n",
    "        radiomics_df = pd.concat([radiomics_df, result_df])\n",
    "\n",
    "radiomics_df = radiomics_df[['img_name'] + [col for col in radiomics_df.columns[:-1] if col not in remove_col_names]].reset_index(drop=True)"
   ]
  },
  {
   "cell_type": "code",
   "execution_count": null,
   "id": "7ed6b848-a6e4-4b33-8b2b-66d636472114",
   "metadata": {},
   "outputs": [],
   "source": []
  }
 ],
 "metadata": {
  "kernelspec": {
   "display_name": "Python 3 (ipykernel)",
   "language": "python",
   "name": "python3"
  },
  "language_info": {
   "codemirror_mode": {
    "name": "ipython",
    "version": 3
   },
   "file_extension": ".py",
   "mimetype": "text/x-python",
   "name": "python",
   "nbconvert_exporter": "python",
   "pygments_lexer": "ipython3",
   "version": "3.10.16"
  }
 },
 "nbformat": 4,
 "nbformat_minor": 5
}
